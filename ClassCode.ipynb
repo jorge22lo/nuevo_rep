{
  "nbformat": 4,
  "nbformat_minor": 0,
  "metadata": {
    "colab": {
      "provenance": [],
      "authorship_tag": "ABX9TyPDh2T2Y9HDkS9mfMZYPFJw",
      "include_colab_link": true
    },
    "kernelspec": {
      "name": "python3",
      "display_name": "Python 3"
    },
    "language_info": {
      "name": "python"
    }
  },
  "cells": [
    {
      "cell_type": "markdown",
      "metadata": {
        "id": "view-in-github",
        "colab_type": "text"
      },
      "source": [
        "<a href=\"https://colab.research.google.com/github/jorge22lo/nuevo_rep/blob/main/ClassCode.ipynb\" target=\"_parent\"><img src=\"https://colab.research.google.com/assets/colab-badge.svg\" alt=\"Open In Colab\"/></a>"
      ]
    },
    {
      "cell_type": "code",
      "execution_count": 1,
      "metadata": {
        "id": "ClbddhlcLnM3"
      },
      "outputs": [],
      "source": [
        "import time"
      ]
    },
    {
      "cell_type": "code",
      "source": [
        "time.time()"
      ],
      "metadata": {
        "colab": {
          "base_uri": "https://localhost:8080/"
        },
        "id": "TrgTPrRkypP0",
        "outputId": "e919e2e1-0f59-41a7-94cd-aa8e34f52b40"
      },
      "execution_count": 2,
      "outputs": [
        {
          "output_type": "execute_result",
          "data": {
            "text/plain": [
              "1677114130.9974186"
            ]
          },
          "metadata": {},
          "execution_count": 2
        }
      ]
    },
    {
      "cell_type": "code",
      "source": [
        "time.time()"
      ],
      "metadata": {
        "colab": {
          "base_uri": "https://localhost:8080/"
        },
        "id": "8wuUpp5ayqjj",
        "outputId": "b8bfe0eb-bc64-4da7-a801-fe2dc8d9e99b"
      },
      "execution_count": 3,
      "outputs": [
        {
          "output_type": "execute_result",
          "data": {
            "text/plain": [
              "1677114522.9186985"
            ]
          },
          "metadata": {},
          "execution_count": 3
        }
      ]
    },
    {
      "cell_type": "code",
      "source": [
        "a = 1677114522.9186985 - 1677114130.9974186\n",
        "print(a)"
      ],
      "metadata": {
        "colab": {
          "base_uri": "https://localhost:8080/"
        },
        "id": "_ecJ7cqT0LgL",
        "outputId": "048f6221-f91b-4490-9e70-bcc4579910d6"
      },
      "execution_count": 5,
      "outputs": [
        {
          "output_type": "stream",
          "name": "stdout",
          "text": [
            "391.92127990722656\n"
          ]
        }
      ]
    },
    {
      "cell_type": "code",
      "source": [
        "print(\"El tiempo de demora del proceso es de: 1677114522.9186985 - 1677114130.9974186 segundo\")"
      ],
      "metadata": {
        "colab": {
          "base_uri": "https://localhost:8080/"
        },
        "id": "tvWLvbh50Oqb",
        "outputId": "f4483e43-3b9a-4b9b-8bfb-ac07d20b4f58"
      },
      "execution_count": 6,
      "outputs": [
        {
          "output_type": "stream",
          "name": "stdout",
          "text": [
            "El tiempo de demora del proceso es de: 1677114522.9186985 - 1677114130.9974186 segundo\n"
          ]
        }
      ]
    },
    {
      "cell_type": "code",
      "source": [
        "start = time.time()\n",
        "print('proceso')\n",
        "time_clapsed = time.time() - start\n",
        "\n",
        "print((f\"el tiempo de demora del proceso es de {time_clapsed} segundos\"))"
      ],
      "metadata": {
        "colab": {
          "base_uri": "https://localhost:8080/"
        },
        "id": "ybFGr1gw0onD",
        "outputId": "88e31bb7-e35f-46a7-802a-1a52368a168f"
      },
      "execution_count": 7,
      "outputs": [
        {
          "output_type": "stream",
          "name": "stdout",
          "text": [
            "proceso\n",
            "el tiempo de demora del proceso es de 0.0012943744659423828 segundos\n"
          ]
        }
      ]
    },
    {
      "cell_type": "code",
      "source": [],
      "metadata": {
        "id": "J6lRYYqK2HjR"
      },
      "execution_count": null,
      "outputs": []
    }
  ]
}